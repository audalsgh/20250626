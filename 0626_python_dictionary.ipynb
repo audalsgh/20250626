{
  "nbformat": 4,
  "nbformat_minor": 0,
  "metadata": {
    "colab": {
      "provenance": [],
      "gpuType": "T4",
      "authorship_tag": "ABX9TyPd8YEhgq3e+Tv/GQAEgJ4M",
      "include_colab_link": true
    },
    "kernelspec": {
      "name": "python3",
      "display_name": "Python 3"
    },
    "language_info": {
      "name": "python"
    },
    "accelerator": "GPU"
  },
  "cells": [
    {
      "cell_type": "markdown",
      "metadata": {
        "id": "view-in-github",
        "colab_type": "text"
      },
      "source": [
        "<a href=\"https://colab.research.google.com/github/audalsgh/20250626/blob/main/0626_python_dictionary.ipynb\" target=\"_parent\"><img src=\"https://colab.research.google.com/assets/colab-badge.svg\" alt=\"Open In Colab\"/></a>"
      ]
    },
    {
      "cell_type": "markdown",
      "source": [
        "딕셔너리 정의는 {} 중괄호로 한다."
      ],
      "metadata": {
        "id": "iIrL6zgoNpU3"
      }
    },
    {
      "cell_type": "code",
      "execution_count": 9,
      "metadata": {
        "colab": {
          "base_uri": "https://localhost:8080/"
        },
        "id": "JshCPjpENUc2",
        "outputId": "ef7c5d17-6700-4e79-b02e-cae7d2593b96"
      },
      "outputs": [
        {
          "output_type": "stream",
          "name": "stdout",
          "text": [
            "{'brand': 'Ford', 'model': 'Mustang', 'year': 1964}\n",
            "3\n",
            "<class 'dict'>\n"
          ]
        }
      ],
      "source": [
        "thisdict = { \"brand\": \"Ford\", \"model\": \"Mustang\", \"year\": 1964 }\n",
        "print(thisdict)\n",
        "print(len(thisdict))\n",
        "print(type(thisdict))"
      ]
    },
    {
      "cell_type": "markdown",
      "source": [
        "딕셔너리는 \"키-값\"쌍 데이터를 저장하는 것.\n",
        "[\"키이름\"]을 통해 접근할수있고, [\"키이름\"]에 맞는 키값이 출력된다!"
      ],
      "metadata": {
        "id": "YzOfCqQrNsfA"
      }
    },
    {
      "cell_type": "code",
      "source": [
        "thisdict = { \"brand\": \"Ford\", \"model\": \"Mustang\", \"year\": 1964 }\n",
        "print(thisdict[\"brand\"])"
      ],
      "metadata": {
        "colab": {
          "base_uri": "https://localhost:8080/"
        },
        "id": "sOXooCmSNnG8",
        "outputId": "935b8ccf-0eef-4256-da07-f26cb46bc312"
      },
      "execution_count": 4,
      "outputs": [
        {
          "output_type": "stream",
          "name": "stdout",
          "text": [
            "Ford\n"
          ]
        }
      ]
    },
    {
      "cell_type": "markdown",
      "source": [
        "키이름이 중복되면, 가장 나중에 쓰여진 키값으로 덮어씌워진다."
      ],
      "metadata": {
        "id": "xdI9eG4sOLcJ"
      }
    },
    {
      "cell_type": "code",
      "source": [
        "thisdict = { \"brand\": \"Ford\", \"model\": \"Mustang\", \"year\": 1964, \"year\": 2020 }\n",
        "print(thisdict)"
      ],
      "metadata": {
        "colab": {
          "base_uri": "https://localhost:8080/"
        },
        "id": "9kvsulXPOBYY",
        "outputId": "6a6e1905-c62a-4276-9f3c-31e74e2b4428"
      },
      "execution_count": 6,
      "outputs": [
        {
          "output_type": "stream",
          "name": "stdout",
          "text": [
            "{'brand': 'Ford', 'model': 'Mustang', 'year': 2020}\n"
          ]
        }
      ]
    },
    {
      "cell_type": "markdown",
      "source": [
        "딕셔너리 키 값에는 부울 대수나, 리스트가 들어갈수도 있다."
      ],
      "metadata": {
        "id": "r6c-NsMCOkRi"
      }
    },
    {
      "cell_type": "code",
      "source": [
        "thisdict = { \"brand\": \"Ford\", \"electric\": False, \"year\": 1964, \"colors\": [\"red\",\"white\",\"blue\"] }\n",
        "print(thisdict)"
      ],
      "metadata": {
        "colab": {
          "base_uri": "https://localhost:8080/"
        },
        "id": "OOQ8Bp5AOGpP",
        "outputId": "311e05b9-2230-420f-fcff-c03d2d4c5c5d"
      },
      "execution_count": 8,
      "outputs": [
        {
          "output_type": "stream",
          "name": "stdout",
          "text": [
            "{'brand': 'Ford', 'electric': False, 'year': 1964, 'colors': ['red', 'white', 'blue']}\n"
          ]
        }
      ]
    },
    {
      "cell_type": "markdown",
      "source": [
        "dict() 함수로도 딕셔너리를 만들수있다"
      ],
      "metadata": {
        "id": "MLXoeF7wO4zz"
      }
    },
    {
      "cell_type": "code",
      "source": [
        "thisdict = dict(name = \"John\", age = 36, country = \"Norway\")\n",
        "print(thisdict)"
      ],
      "metadata": {
        "colab": {
          "base_uri": "https://localhost:8080/"
        },
        "id": "Vyf98lNcOqEQ",
        "outputId": "22989ba6-6ce1-4faf-9121-beb54f099112"
      },
      "execution_count": 10,
      "outputs": [
        {
          "output_type": "stream",
          "name": "stdout",
          "text": [
            "{'name': 'John', 'age': 36, 'country': 'Norway'}\n"
          ]
        }
      ]
    }
  ]
}