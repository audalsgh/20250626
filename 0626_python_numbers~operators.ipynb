{
  "nbformat": 4,
  "nbformat_minor": 0,
  "metadata": {
    "colab": {
      "provenance": [],
      "gpuType": "T4",
      "authorship_tag": "ABX9TyP1dj5ClMg8znGbt1YD3TMK",
      "include_colab_link": true
    },
    "kernelspec": {
      "name": "python3",
      "display_name": "Python 3"
    },
    "language_info": {
      "name": "python"
    },
    "accelerator": "GPU"
  },
  "cells": [
    {
      "cell_type": "markdown",
      "metadata": {
        "id": "view-in-github",
        "colab_type": "text"
      },
      "source": [
        "<a href=\"https://colab.research.google.com/github/audalsgh/20250626/blob/main/0626_python_numbers~operators.ipynb\" target=\"_parent\"><img src=\"https://colab.research.google.com/assets/colab-badge.svg\" alt=\"Open In Colab\"/></a>"
      ]
    },
    {
      "cell_type": "markdown",
      "source": [
        "숫자 자료형 int, float, complex"
      ],
      "metadata": {
        "id": "lseqayGZpe8V"
      }
    },
    {
      "cell_type": "code",
      "execution_count": 2,
      "metadata": {
        "id": "2jsAUgTKodxB",
        "colab": {
          "base_uri": "https://localhost:8080/"
        },
        "outputId": "76fc4ced-9a33-4944-8549-6deed9020c16"
      },
      "outputs": [
        {
          "output_type": "stream",
          "name": "stdout",
          "text": [
            "<class 'int'>\n",
            "<class 'float'>\n",
            "<class 'complex'>\n"
          ]
        }
      ],
      "source": [
        "x = 1    # int\n",
        "y = 2.8  # float\n",
        "z = 1j   # complex\n",
        "\n",
        "print(type(x))\n",
        "print(type(y))\n",
        "print(type(z))"
      ]
    },
    {
      "cell_type": "markdown",
      "source": [
        "길이제한 없는 int"
      ],
      "metadata": {
        "id": "DQUaVw0Vpj5z"
      }
    },
    {
      "cell_type": "code",
      "source": [
        "x = 1\n",
        "y = 35656222554887711\n",
        "z = -3255522\n",
        "\n",
        "print(type(x))\n",
        "print(type(y))\n",
        "print(type(z))"
      ],
      "metadata": {
        "colab": {
          "base_uri": "https://localhost:8080/"
        },
        "id": "fACm-R_lpY43",
        "outputId": "59791f5a-1127-4d0f-e326-7ab89ae1c028"
      },
      "execution_count": 4,
      "outputs": [
        {
          "output_type": "stream",
          "name": "stdout",
          "text": [
            "<class 'int'>\n",
            "<class 'int'>\n",
            "<class 'int'>\n"
          ]
        }
      ]
    },
    {
      "cell_type": "markdown",
      "source": [
        "소숫점이 들어가는 순간 float"
      ],
      "metadata": {
        "id": "4KbrS1Z4p23t"
      }
    },
    {
      "cell_type": "code",
      "source": [
        "x = 1.10\n",
        "y = 1.0\n",
        "z = -35.59\n",
        "\n",
        "print(type(x))\n",
        "print(type(y))\n",
        "print(type(z))"
      ],
      "metadata": {
        "colab": {
          "base_uri": "https://localhost:8080/"
        },
        "id": "uw3znofmpecX",
        "outputId": "c06fd1a8-5966-481c-a52a-60aa486d09a7"
      },
      "execution_count": 6,
      "outputs": [
        {
          "output_type": "stream",
          "name": "stdout",
          "text": [
            "<class 'float'>\n",
            "<class 'float'>\n",
            "<class 'float'>\n"
          ]
        }
      ]
    },
    {
      "cell_type": "markdown",
      "source": [
        "실수를 표현하는 법 (35e3) = 35*10^3 = 35000.0 이라는 실수값"
      ],
      "metadata": {
        "id": "6FUANzf3qKGB"
      }
    },
    {
      "cell_type": "code",
      "source": [
        "x = 35e3\n",
        "y = 12E4\n",
        "z = -87.7e100\n",
        "\n",
        "print(type(x))\n",
        "print(type(y))\n",
        "print(type(z))\n",
        "\n",
        "print(x)\n",
        "print(y)\n",
        "print(z)"
      ],
      "metadata": {
        "colab": {
          "base_uri": "https://localhost:8080/"
        },
        "id": "nbkOU00Jp9La",
        "outputId": "f4cc6b14-ce46-4e0a-c0f9-351dfbfb8044"
      },
      "execution_count": 10,
      "outputs": [
        {
          "output_type": "stream",
          "name": "stdout",
          "text": [
            "<class 'float'>\n",
            "<class 'float'>\n",
            "<class 'float'>\n",
            "35000.0\n",
            "120000.0\n",
            "-8.77e+101\n"
          ]
        }
      ]
    },
    {
      "cell_type": "markdown",
      "source": [
        "숫자 자료형 변환 함수들. int()는 버림연산을 한다"
      ],
      "metadata": {
        "id": "HX46yAxAri_5"
      }
    },
    {
      "cell_type": "code",
      "source": [
        "x = 1    # int\n",
        "y = 2.8  # float\n",
        "z = 1j   # complex\n",
        "\n",
        "#정수형 1을 실수형 1.0으로 변환하는 함수:\n",
        "a = float(x)\n",
        "\n",
        "#실수형 2.8을 정수형 2로 변환하는 함수 = 버림연산:\n",
        "b = int(y)\n",
        "\n",
        "#정수형 1을 복소수형 1+j로 변환하는 함수:\n",
        "c = complex(x)\n",
        "\n",
        "#문자형 3을 정수형 3으로 변환하는 함수:\n",
        "d = int(\"3\")\n",
        "\n",
        "print(a)\n",
        "print(b)\n",
        "print(c)\n",
        "print(d)\n",
        "\n",
        "print(type(a))\n",
        "print(type(b))\n",
        "print(type(c))\n",
        "print(type(d))"
      ],
      "metadata": {
        "colab": {
          "base_uri": "https://localhost:8080/"
        },
        "id": "dS9VIRbbp_jE",
        "outputId": "e4550968-6e3e-4a7e-c6c8-b1b1a381b50d"
      },
      "execution_count": 19,
      "outputs": [
        {
          "output_type": "stream",
          "name": "stdout",
          "text": [
            "1.0\n",
            "2\n",
            "(1+0j)\n",
            "3\n",
            "<class 'float'>\n",
            "<class 'int'>\n",
            "<class 'complex'>\n",
            "<class 'int'>\n"
          ]
        }
      ]
    },
    {
      "cell_type": "markdown",
      "source": [
        "ramdom을 사용하면, 코드 실행시 마다 값이 달라진다."
      ],
      "metadata": {
        "id": "LZgzd4A0rcDG"
      }
    },
    {
      "cell_type": "code",
      "source": [
        "import random\n",
        "\n",
        "print(random.randrange(1, 10))"
      ],
      "metadata": {
        "colab": {
          "base_uri": "https://localhost:8080/"
        },
        "id": "RZq6gU_frafu",
        "outputId": "ca68b383-2e57-4c0f-c70a-950fbb040eb2"
      },
      "execution_count": 18,
      "outputs": [
        {
          "output_type": "stream",
          "name": "stdout",
          "text": [
            "2\n"
          ]
        }
      ]
    },
    {
      "cell_type": "markdown",
      "source": [
        "------------------------------------------------------------------------------"
      ],
      "metadata": {
        "id": "vL3yBwOfscTY"
      }
    },
    {
      "cell_type": "markdown",
      "source": [
        "문자열 자료형으로 변환하는 함수 str()"
      ],
      "metadata": {
        "id": "EV1C-5iQs42g"
      }
    },
    {
      "cell_type": "code",
      "source": [
        "x = str(\"s1\") # x = 문자열 \"s1\"\n",
        "y = str(2)    # y = 문자열 \"2\"\n",
        "z = str(3.0)  # z = 문자열 \"3.0\"\n",
        "\n",
        "print(x)\n",
        "print(y)\n",
        "print(z)"
      ],
      "metadata": {
        "colab": {
          "base_uri": "https://localhost:8080/"
        },
        "id": "UNqcyEsAsbh4",
        "outputId": "a8e0dcba-ad4f-4f90-aad2-b29d2d934898"
      },
      "execution_count": 21,
      "outputs": [
        {
          "output_type": "stream",
          "name": "stdout",
          "text": [
            "s1\n",
            "2\n",
            "3.0\n"
          ]
        }
      ]
    },
    {
      "cell_type": "code",
      "source": [
        "print(\"따옴표'를 사이에 넣을수 있다\")\n",
        "print(\"인용 목적으로도 '사용가능'\")\n",
        "print('큰따옴표와 \"섞을수도 있다\"')"
      ],
      "metadata": {
        "colab": {
          "base_uri": "https://localhost:8080/"
        },
        "id": "JADTAeSNtCrV",
        "outputId": "72ddbe77-7cd1-4e7d-c31e-a85dce563834"
      },
      "execution_count": 22,
      "outputs": [
        {
          "output_type": "stream",
          "name": "stdout",
          "text": [
            "따옴표'를 사이에 넣을수 있다\n",
            "인용 목적으로도 '사용가능'\n",
            "큰따옴표와 \"섞을수도 있다\"\n"
          ]
        }
      ]
    },
    {
      "cell_type": "markdown",
      "source": [
        "여러줄을 한 변수에 넣으려면 \"\"\" 세번을 사용한다"
      ],
      "metadata": {
        "id": "XMs1OyHFvCrt"
      }
    },
    {
      "cell_type": "code",
      "source": [
        "a = \"\"\"한 변수에 긴 문장을\n",
        "그것도 두줄이상이 넘는,\n",
        "경우에는 따옴표를 세번사용하면\n",
        "된다.\"\"\"\n",
        "print(a)"
      ],
      "metadata": {
        "colab": {
          "base_uri": "https://localhost:8080/"
        },
        "id": "HmFAU-9cvCSH",
        "outputId": "d80d3588-6c27-45c4-87ae-5313adfa57be"
      },
      "execution_count": 24,
      "outputs": [
        {
          "output_type": "stream",
          "name": "stdout",
          "text": [
            "한 변수에 긴 문장을\n",
            "그것도 두줄이상이 넘는,\n",
            "경우에는 따옴표를 세번사용하면\n",
            "된다.\n"
          ]
        }
      ]
    },
    {
      "cell_type": "markdown",
      "source": [
        "문자열을 인덱스로 접근하면, 캐릭터가 지목된다"
      ],
      "metadata": {
        "id": "1BSn4RlR1vjB"
      }
    },
    {
      "cell_type": "code",
      "source": [
        "a = \"Hello, World!\"\n",
        "print(a[1])"
      ],
      "metadata": {
        "colab": {
          "base_uri": "https://localhost:8080/"
        },
        "id": "iYd4WIWGvXO4",
        "outputId": "da7edd13-5dac-4e57-ee8f-4fe0e4346c4d"
      },
      "execution_count": 25,
      "outputs": [
        {
          "output_type": "stream",
          "name": "stdout",
          "text": [
            "e\n"
          ]
        }
      ]
    },
    {
      "cell_type": "markdown",
      "source": [
        "\"free\" 라는 문장이 txt변수안에 들어있는지 검사하는 in 문법"
      ],
      "metadata": {
        "id": "V1pExnu114ln"
      }
    },
    {
      "cell_type": "code",
      "source": [
        "txt1 = \"The best things in life are free!\"\n",
        "print(\"free\" in txt1)\n",
        "\n",
        "txt2 = \"The best things in life are free!\"\n",
        "print(\"expensive\" not in txt2)"
      ],
      "metadata": {
        "colab": {
          "base_uri": "https://localhost:8080/"
        },
        "id": "tVEfzZ451zsB",
        "outputId": "c394ac9e-163d-4359-c20c-d2807b47c0a8"
      },
      "execution_count": 28,
      "outputs": [
        {
          "output_type": "stream",
          "name": "stdout",
          "text": [
            "True\n",
            "True\n"
          ]
        }
      ]
    },
    {
      "cell_type": "markdown",
      "source": [
        "in 문법은 if조건문에서도 사용가능"
      ],
      "metadata": {
        "id": "oFq9Sw7y2Fi_"
      }
    },
    {
      "cell_type": "code",
      "source": [
        "txt = \"The best things in life are free!\"\n",
        "if \"free\" in txt:\n",
        "  print(\"Yes, 'free' is present.\")"
      ],
      "metadata": {
        "colab": {
          "base_uri": "https://localhost:8080/"
        },
        "id": "R7-3B7Nc1-nm",
        "outputId": "d0e6e7e5-ec5c-4abc-d1ba-30abcb678677"
      },
      "execution_count": 27,
      "outputs": [
        {
          "output_type": "stream",
          "name": "stdout",
          "text": [
            "Yes, 'free' is present.\n"
          ]
        }
      ]
    },
    {
      "cell_type": "code",
      "source": [],
      "metadata": {
        "id": "jQ1typMV2IKq"
      },
      "execution_count": null,
      "outputs": []
    }
  ]
}