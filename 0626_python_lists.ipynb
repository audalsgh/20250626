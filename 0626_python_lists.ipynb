{
  "nbformat": 4,
  "nbformat_minor": 0,
  "metadata": {
    "colab": {
      "provenance": [],
      "gpuType": "T4",
      "authorship_tag": "ABX9TyPOge9as64APyThsej9u+qm",
      "include_colab_link": true
    },
    "kernelspec": {
      "name": "python3",
      "display_name": "Python 3"
    },
    "language_info": {
      "name": "python"
    },
    "accelerator": "GPU"
  },
  "cells": [
    {
      "cell_type": "markdown",
      "metadata": {
        "id": "view-in-github",
        "colab_type": "text"
      },
      "source": [
        "<a href=\"https://colab.research.google.com/github/audalsgh/20250626/blob/main/0626_python_lists.ipynb\" target=\"_parent\"><img src=\"https://colab.research.google.com/assets/colab-badge.svg\" alt=\"Open In Colab\"/></a>"
      ]
    },
    {
      "cell_type": "markdown",
      "source": [
        "리스트는 [] 대괄호로 정의한다"
      ],
      "metadata": {
        "id": "LKQs854A2vw2"
      }
    },
    {
      "cell_type": "code",
      "execution_count": 18,
      "metadata": {
        "colab": {
          "base_uri": "https://localhost:8080/"
        },
        "id": "t6IVb_u02jCV",
        "outputId": "d18a82bb-d947-464a-a528-b2bde190462b"
      },
      "outputs": [
        {
          "output_type": "stream",
          "name": "stdout",
          "text": [
            "['apple', 'banana', 'cherry']\n",
            "3\n"
          ]
        }
      ],
      "source": [
        "mylist = [\"apple\", \"banana\", \"cherry\"]\n",
        "print(mylist)\n",
        "print(len(mylist))"
      ]
    },
    {
      "cell_type": "markdown",
      "source": [
        "리스트안에는 문자열, 숫자, 부울 대수등등을 넣을수있다"
      ],
      "metadata": {
        "id": "DFd9SnP3297A"
      }
    },
    {
      "cell_type": "code",
      "source": [
        "target_waypoint = [36.351002, 127.385002, 160]  #대전의 위도,경도,고도\n",
        "traffic_signs = [\"빨간불\", \"초록불\", \"주황불\"]  #문자열도 리스트에 넣을수있다\n",
        "obstacles = [True, False, True]  #장애물 감지 여부 부울 대수를 리스트에 넣어보았다.\n",
        "\n",
        "print(target_waypoint)\n",
        "print(traffic_signs)\n",
        "print(obstacles)"
      ],
      "metadata": {
        "colab": {
          "base_uri": "https://localhost:8080/"
        },
        "id": "tf9k11K-2yiF",
        "outputId": "dd6dde43-81ab-4f39-a725-68f4d2e6625d"
      },
      "execution_count": 31,
      "outputs": [
        {
          "output_type": "stream",
          "name": "stdout",
          "text": [
            "[36.351002, 127.385002, 160]\n",
            "['빨간불', '초록불', '주황불']\n",
            "[True, False, True]\n"
          ]
        }
      ]
    },
    {
      "cell_type": "markdown",
      "source": [
        "물론 섞여있는 리스트도 가능하다"
      ],
      "metadata": {
        "id": "I60PBwAi3GhA"
      }
    },
    {
      "cell_type": "code",
      "source": [
        "list1 = [\"abc\", 34, True, 40, \"male\"]\n",
        "print(list1)"
      ],
      "metadata": {
        "colab": {
          "base_uri": "https://localhost:8080/"
        },
        "id": "iPOGHiOP3DIr",
        "outputId": "db6780bd-f886-42f2-cd43-e8e2ec87d47f"
      },
      "execution_count": 20,
      "outputs": [
        {
          "output_type": "stream",
          "name": "stdout",
          "text": [
            "['abc', 34, True, 40, 'male']\n"
          ]
        }
      ]
    },
    {
      "cell_type": "markdown",
      "source": [
        "list 클래스임을 type()함수로 확인할수있다."
      ],
      "metadata": {
        "id": "K0J-zJnr4c15"
      }
    },
    {
      "cell_type": "code",
      "source": [
        "mylist = [\"apple\", \"banana\", \"cherry\"]\n",
        "print(type(mylist))"
      ],
      "metadata": {
        "colab": {
          "base_uri": "https://localhost:8080/"
        },
        "id": "UXFjcffE3LBo",
        "outputId": "974e7321-321d-4455-9152-adafd07ae9b0"
      },
      "execution_count": 21,
      "outputs": [
        {
          "output_type": "stream",
          "name": "stdout",
          "text": [
            "<class 'list'>\n"
          ]
        }
      ]
    },
    {
      "cell_type": "markdown",
      "source": [
        "list 이름을 위 예제들에서 써버려서 del list를 통해 다시 내장 클래스로 돌려놓는다. list((\"\",\"\",\"\")) 함수로 리스트를 만들수 있다."
      ],
      "metadata": {
        "id": "LPL25Tca4uvu"
      }
    },
    {
      "cell_type": "code",
      "source": [
        "del list\n",
        "thislist = list((\"apple\", \"banana\", \"cherry\"))\n",
        "print(thislist)"
      ],
      "metadata": {
        "colab": {
          "base_uri": "https://localhost:8080/"
        },
        "id": "5lx76JUj3MUe",
        "outputId": "b6acdece-3440-4137-f091-1d1cc784204e"
      },
      "execution_count": 23,
      "outputs": [
        {
          "output_type": "stream",
          "name": "stdout",
          "text": [
            "['apple', 'banana', 'cherry']\n"
          ]
        }
      ]
    },
    {
      "cell_type": "markdown",
      "source": [
        "gps 데이터를 저장하는 변수 정의."
      ],
      "metadata": {
        "id": "YekWcuzl7HNH"
      }
    },
    {
      "cell_type": "code",
      "source": [
        "gps_lat, gps_lon = 0.0, 0.0  # GPS 좌표\n",
        "gps_altitude = 0.0  # 고도"
      ],
      "metadata": {
        "id": "CQyrWBGD4_4j"
      },
      "execution_count": 26,
      "outputs": []
    },
    {
      "cell_type": "markdown",
      "source": [
        "차량 상태 변수 정의."
      ],
      "metadata": {
        "id": "h-6onYW17eC1"
      }
    },
    {
      "cell_type": "code",
      "source": [
        "# 위치 정보\n",
        "x, y, z = 0.0, 0.0, 0.0  # 차량의 3D 좌표\n",
        "heading = 0.0  # 차량의 방향각 (yaw)\n",
        "pitch, roll = 0.0, 0.0  # 차량의 기울기\n",
        "\n",
        "# 속도 정보\n",
        "velocity = 0.0  # 현재 속도\n",
        "acceleration = 0.0  # 가속도\n",
        "angular_velocity = 0.0  # 각속도"
      ],
      "metadata": {
        "id": "5IP4sM7g7dps"
      },
      "execution_count": 27,
      "outputs": []
    },
    {
      "cell_type": "markdown",
      "source": [
        "제어 변수 정의."
      ],
      "metadata": {
        "id": "B25IPex5-ULC"
      }
    },
    {
      "cell_type": "code",
      "source": [
        "# 조향 제어\n",
        "steering_angle = 0.0  # 조향각\n",
        "max_steering_angle = 30.0  # 최대 조향각\n",
        "\n",
        "# 속도 제어\n",
        "throttle = 0.0  # 스로틀 (0~1)\n",
        "brake = 0.0  # 브레이크 (0~1)\n",
        "target_speed = 30.0  # 목표 속도\n",
        "max_speed = 60.0  # 최대 속도"
      ],
      "metadata": {
        "id": "RqyI-txH-TV8"
      },
      "execution_count": 32,
      "outputs": []
    },
    {
      "cell_type": "markdown",
      "source": [
        "날씨 및 도로 상태 관련 변수 정의."
      ],
      "metadata": {
        "id": "oQKA6tH9AG8-"
      }
    },
    {
      "cell_type": "code",
      "source": [
        "weather_condition = \"CLEAR\"  # 날씨 상태\n",
        "road_condition = \"DRY\"  # 도로 상태\n",
        "visibility = 100.0  # 가시거리"
      ],
      "metadata": {
        "id": "BDO9drhjAERx"
      },
      "execution_count": 40,
      "outputs": []
    },
    {
      "cell_type": "markdown",
      "source": [
        "샘플1. 신호등 데이터 관련 리스트와 for문 사용예제"
      ],
      "metadata": {
        "id": "JPqng-RN9KzF"
      }
    },
    {
      "cell_type": "code",
      "source": [
        "traffic_signs = [\"빨간불\", \"초록불\", \"주황불\"]\n",
        "\n",
        "for sign in traffic_signs:\n",
        "    if sign == \"빨간불\":\n",
        "        action = \"정지\"\n",
        "    elif sign == \"초록불\":\n",
        "        action = \"진행\"\n",
        "    else:\n",
        "        action = \"감속 준비\"\n",
        "    print(f\"신호등이 {sign}일 때 → 차량은 '{action}'\")  #실제코드에선 action에 따라 속도가 변하도록 만들어줘야함"
      ],
      "metadata": {
        "colab": {
          "base_uri": "https://localhost:8080/"
        },
        "id": "72Uc0CHk8Nw1",
        "outputId": "30e404d4-0ee7-4cb4-c6ef-1d06f85f8f9c"
      },
      "execution_count": 30,
      "outputs": [
        {
          "output_type": "stream",
          "name": "stdout",
          "text": [
            "신호등이 빨간불일 때 → 차량은 '정지'\n",
            "신호등이 초록불일 때 → 차량은 '진행'\n",
            "신호등이 주황불일 때 → 차량은 '감속 준비'\n"
          ]
        }
      ]
    },
    {
      "cell_type": "markdown",
      "source": [
        "샘플2. 자율주행 장애물 감지 관련 리스트와 for문 사용예제"
      ],
      "metadata": {
        "id": "A1nYUyD19lNg"
      }
    },
    {
      "cell_type": "code",
      "source": [
        "obstacles = [True, False, True]  # True: 장애물 감지됨, False: 없음\n",
        "\n",
        "for i, detected in enumerate(obstacles, start=1):\n",
        "    if detected:\n",
        "        print(f\"센서 {i}: 장애물 감지! → 긴급 제동 또는 회피 기동 수행\")\n",
        "        # 예: acceleration = -3.0  (m/s² 제동)\n",
        "    else:\n",
        "        print(f\"센서 {i}: 장애물 없음 → 정상 주행 유지\")"
      ],
      "metadata": {
        "id": "g4xSXMmW9dYK"
      },
      "execution_count": null,
      "outputs": []
    },
    {
      "cell_type": "markdown",
      "source": [
        "샘플3. 목표 속도에 도달하도록 가속,감속하는 예제"
      ],
      "metadata": {
        "id": "zV7nGdE8-3Fx"
      }
    },
    {
      "cell_type": "code",
      "source": [
        "current_speeds = [0, 10, 25, 35, 28, 30, 32]  # 시뮬레이션 현재 속도 (km/h)\n",
        "\n",
        "for i in current_speeds:\n",
        "    speed_error = target_speed - i  #목표로하는 속도와 현재 속도가 얼마나 차이나는지 계산하여, 가속할지 감속할지 판단하는 if문 사용!\n",
        "    if speed_error > 0:\n",
        "        # 부족하면 스로틀 증가, 브레이크 해제\n",
        "        throttle = min(speed_error / target_speed, 1.0)\n",
        "        brake = 0.0\n",
        "    else:\n",
        "        # 초과하면 브레이크, 스로틀 해제\n",
        "        throttle = 0.0\n",
        "        brake = min(-speed_error / max_speed, 1.0)\n",
        "    print(f\"현재속도 = {i}km/h -> throttle = {throttle:.2f}, brake = {brake:.2f}\")"
      ],
      "metadata": {
        "colab": {
          "base_uri": "https://localhost:8080/"
        },
        "id": "cFVP4eo3-fjE",
        "outputId": "52407fd5-9711-4d46-e89c-8d8d5b36de9e"
      },
      "execution_count": 38,
      "outputs": [
        {
          "output_type": "stream",
          "name": "stdout",
          "text": [
            "현재속도 = 0km/h -> throttle = 1.00, brake = 0.00\n",
            "현재속도 = 10km/h -> throttle = 0.67, brake = 0.00\n",
            "현재속도 = 25km/h -> throttle = 0.17, brake = 0.00\n",
            "현재속도 = 35km/h -> throttle = 0.00, brake = 0.08\n",
            "현재속도 = 28km/h -> throttle = 0.07, brake = 0.00\n",
            "현재속도 = 30km/h -> throttle = 0.00, brake = -0.00\n",
            "현재속도 = 32km/h -> throttle = 0.00, brake = 0.03\n"
          ]
        }
      ]
    },
    {
      "cell_type": "markdown",
      "source": [
        "샘플4. 핸들 각도 리스트를 이용해 방향을 제어하는 예제"
      ],
      "metadata": {
        "id": "hYtmMyzj_NL0"
      }
    },
    {
      "cell_type": "code",
      "source": [
        "heading_errors = [5, -3, 15, -40, 25]  # 목표 방향과 실제 방향의 각도 차이가 나는 여러 경우를 리스트로 정의함.\n",
        "\n",
        "for err in heading_errors:\n",
        "    steering_angle = err\n",
        "\n",
        "    # 차량의 최대 조향각을 넘지 않도록 if문으로 제어.\n",
        "    if steering_angle > max_steering_angle:\n",
        "        steering_angle = max_steering_angle\n",
        "    elif steering_angle < -max_steering_angle:\n",
        "        steering_angle = -max_steering_angle\n",
        "    print(f\"헤딩오차 = {err}도 -> 조향각 = {steering_angle:.1f}도\")"
      ],
      "metadata": {
        "colab": {
          "base_uri": "https://localhost:8080/"
        },
        "id": "ojADgews-9aI",
        "outputId": "e32e0a9f-d204-4e52-dc0f-a4c770f01e82"
      },
      "execution_count": 39,
      "outputs": [
        {
          "output_type": "stream",
          "name": "stdout",
          "text": [
            "헤딩오차 = 5도 -> 조향각 = 5.0도\n",
            "헤딩오차 = -3도 -> 조향각 = -3.0도\n",
            "헤딩오차 = 15도 -> 조향각 = 15.0도\n",
            "헤딩오차 = -40도 -> 조향각 = -30.0도\n",
            "헤딩오차 = 25도 -> 조향각 = 25.0도\n"
          ]
        }
      ]
    },
    {
      "cell_type": "markdown",
      "source": [
        "샘플5. 날씨와 도로상태에 영향을 받아, 가시거리가 늘어났음을 알리고, 차량상태 변수중 acceleration을 평소보다 낮춰, 안전운전을 유도하는 예제"
      ],
      "metadata": {
        "id": "TNaJtUmMBbY3"
      }
    },
    {
      "cell_type": "code",
      "source": [
        "weather_condition = \"CLEAR\"  # 날씨 상태\n",
        "road_condition = \"DRY\"  # 도로 상태\n",
        "visibility = 100.0  # 가시거리\n",
        "\n",
        "\n",
        "if weather_condition == \"CLEAR\":\n",
        "  visibility += 10\n",
        "  print(\"날씨가 맑아 가시거리가 평소보다 길어졌으니 참고하세요\")\n",
        "\n",
        "if road_condition == \"DRY\":\n",
        "  acceleration -= 1\n",
        "  print(\"도로가 건조하여 평소보다 낮은 가속으로 운행하겠습니다. 참고하세요\")"
      ],
      "metadata": {
        "colab": {
          "base_uri": "https://localhost:8080/"
        },
        "id": "XNjMIdPdAS6U",
        "outputId": "1b575d6b-6099-4509-afd5-e1d099f2c5bf"
      },
      "execution_count": 43,
      "outputs": [
        {
          "output_type": "stream",
          "name": "stdout",
          "text": [
            "날씨가 맑아 가시거리가 평소보다 길어졌으니 참고하세요\n",
            "도로가 건조하여 평소보다 낮은 가속으로 운행하겠습니다. 참고하세요\n"
          ]
        }
      ]
    }
  ]
}