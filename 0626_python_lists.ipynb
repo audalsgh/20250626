{
  "nbformat": 4,
  "nbformat_minor": 0,
  "metadata": {
    "colab": {
      "provenance": [],
      "gpuType": "T4",
      "authorship_tag": "ABX9TyPkR9d+9d3D6AlzIPGvqXcY",
      "include_colab_link": true
    },
    "kernelspec": {
      "name": "python3",
      "display_name": "Python 3"
    },
    "language_info": {
      "name": "python"
    },
    "accelerator": "GPU"
  },
  "cells": [
    {
      "cell_type": "markdown",
      "metadata": {
        "id": "view-in-github",
        "colab_type": "text"
      },
      "source": [
        "<a href=\"https://colab.research.google.com/github/audalsgh/20250626/blob/main/0626_python_lists.ipynb\" target=\"_parent\"><img src=\"https://colab.research.google.com/assets/colab-badge.svg\" alt=\"Open In Colab\"/></a>"
      ]
    },
    {
      "cell_type": "markdown",
      "source": [
        "리스트는 [] 대괄호로 정의한다"
      ],
      "metadata": {
        "id": "LKQs854A2vw2"
      }
    },
    {
      "cell_type": "code",
      "execution_count": 49,
      "metadata": {
        "colab": {
          "base_uri": "https://localhost:8080/"
        },
        "id": "t6IVb_u02jCV",
        "outputId": "cb029aa2-0d18-4068-df14-99d79db43f72"
      },
      "outputs": [
        {
          "output_type": "stream",
          "name": "stdout",
          "text": [
            "['apple', 'banana', 'cherry']\n",
            "3\n"
          ]
        }
      ],
      "source": [
        "mylist = [\"apple\", \"banana\", \"cherry\"]\n",
        "print(mylist)\n",
        "print(len(mylist))"
      ]
    },
    {
      "cell_type": "markdown",
      "source": [
        "리스트안에는 문자열, 숫자, 부울 대수등등을 넣을수있다"
      ],
      "metadata": {
        "id": "DFd9SnP3297A"
      }
    },
    {
      "cell_type": "code",
      "source": [
        "target_waypoint = [36.351111, 127.297778, 151]  #한밭대학교의 위도,경도,고도\n",
        "traffic_signs = [\"빨간불\", \"초록불\", \"주황불\"]  #문자열도 리스트에 넣을수있다\n",
        "obstacles = [True, False, True]  #장애물 감지 여부 부울 대수를 리스트에 넣어보았다.\n",
        "\n",
        "print(target_waypoint)\n",
        "print(traffic_signs)\n",
        "print(obstacles)"
      ],
      "metadata": {
        "colab": {
          "base_uri": "https://localhost:8080/"
        },
        "id": "tf9k11K-2yiF",
        "outputId": "875271ef-6c0e-450b-be9b-8cfc18405764"
      },
      "execution_count": 63,
      "outputs": [
        {
          "output_type": "stream",
          "name": "stdout",
          "text": [
            "[36.351111, 127.297778, 151]\n",
            "['빨간불', '초록불', '주황불']\n",
            "[True, False, True]\n"
          ]
        }
      ]
    },
    {
      "cell_type": "markdown",
      "source": [
        "물론 섞여있는 리스트도 가능하다"
      ],
      "metadata": {
        "id": "I60PBwAi3GhA"
      }
    },
    {
      "cell_type": "code",
      "source": [
        "list1 = [\"abc\", 34, True, 40, \"male\"]\n",
        "print(list1)"
      ],
      "metadata": {
        "colab": {
          "base_uri": "https://localhost:8080/"
        },
        "id": "iPOGHiOP3DIr",
        "outputId": "e248912b-fcc4-4a9c-eea6-b686ca42fadf"
      },
      "execution_count": 51,
      "outputs": [
        {
          "output_type": "stream",
          "name": "stdout",
          "text": [
            "['abc', 34, True, 40, 'male']\n"
          ]
        }
      ]
    },
    {
      "cell_type": "markdown",
      "source": [
        "list 클래스임을 type()함수로 확인할수있다."
      ],
      "metadata": {
        "id": "K0J-zJnr4c15"
      }
    },
    {
      "cell_type": "code",
      "source": [
        "mylist = [\"apple\", \"banana\", \"cherry\"]\n",
        "print(type(mylist))"
      ],
      "metadata": {
        "colab": {
          "base_uri": "https://localhost:8080/"
        },
        "id": "UXFjcffE3LBo",
        "outputId": "a5770d44-8f97-40ca-d8c5-9641716ec7ef"
      },
      "execution_count": 52,
      "outputs": [
        {
          "output_type": "stream",
          "name": "stdout",
          "text": [
            "<class 'list'>\n"
          ]
        }
      ]
    },
    {
      "cell_type": "markdown",
      "source": [
        "list 이름을 위 예제들에서 써버려서 del list를 통해 다시 내장 클래스로 돌려놓는다. list((\"\",\"\",\"\")) 함수로 리스트를 만들수 있다."
      ],
      "metadata": {
        "id": "LPL25Tca4uvu"
      }
    },
    {
      "cell_type": "code",
      "source": [
        "del thislist\n",
        "thislist = list((\"apple\", \"banana\", \"cherry\"))\n",
        "print(thislist)"
      ],
      "metadata": {
        "colab": {
          "base_uri": "https://localhost:8080/"
        },
        "id": "5lx76JUj3MUe",
        "outputId": "d1b674ab-7db6-447d-c741-ada26d381bce"
      },
      "execution_count": 53,
      "outputs": [
        {
          "output_type": "stream",
          "name": "stdout",
          "text": [
            "['apple', 'banana', 'cherry']\n"
          ]
        }
      ]
    },
    {
      "cell_type": "markdown",
      "source": [
        "gps 데이터를 저장하는 변수 정의."
      ],
      "metadata": {
        "id": "YekWcuzl7HNH"
      }
    },
    {
      "cell_type": "code",
      "source": [
        "gps_lat, gps_lon = 0.0, 0.0  # GPS 좌표\n",
        "gps_altitude = 0.0  # 고도"
      ],
      "metadata": {
        "id": "CQyrWBGD4_4j"
      },
      "execution_count": 54,
      "outputs": []
    },
    {
      "cell_type": "markdown",
      "source": [
        "차량 상태 변수 정의."
      ],
      "metadata": {
        "id": "h-6onYW17eC1"
      }
    },
    {
      "cell_type": "code",
      "source": [
        "# 위치 정보\n",
        "location = [36.3206, 127.3662, 160]  # 현재 차량이 위치한 배재대학교 좌표\n",
        "target_waypoint = [36.351111, 127.297778, 151]  #한밭대학교의 위도,경도,고도\n",
        "\n",
        "# 속도 정보\n",
        "velocity = 0.0  # 현재 속도\n",
        "acceleration = 0.0  # 가속도\n",
        "angular_velocity = 0.0  # 각속도"
      ],
      "metadata": {
        "id": "5IP4sM7g7dps"
      },
      "execution_count": 64,
      "outputs": []
    },
    {
      "cell_type": "markdown",
      "source": [
        "제어 변수 정의."
      ],
      "metadata": {
        "id": "B25IPex5-ULC"
      }
    },
    {
      "cell_type": "code",
      "source": [
        "# 조향 제어\n",
        "steering_angle = 0.0  # 조향각\n",
        "max_steering_angle = 30.0  # 최대 조향각\n",
        "\n",
        "# 속도 제어\n",
        "throttle = 0.0  # 스로틀 (0~1)\n",
        "brake = 0.0  # 브레이크 (0~1)\n",
        "target_speed = 30.0  # 목표 속도\n",
        "max_speed = 60.0  # 최대 속도"
      ],
      "metadata": {
        "id": "RqyI-txH-TV8"
      },
      "execution_count": 56,
      "outputs": []
    },
    {
      "cell_type": "markdown",
      "source": [
        "날씨 및 도로 상태 관련 변수 정의."
      ],
      "metadata": {
        "id": "oQKA6tH9AG8-"
      }
    },
    {
      "cell_type": "code",
      "source": [
        "weather_condition = \"CLEAR\"  # 날씨 상태\n",
        "road_condition = \"DRY\"  # 도로 상태\n",
        "visibility = 100.0  # 가시거리"
      ],
      "metadata": {
        "id": "BDO9drhjAERx"
      },
      "execution_count": 57,
      "outputs": []
    },
    {
      "cell_type": "markdown",
      "source": [
        "샘플0. 현재위치와 목적지와의 차이 계산하는 예제"
      ],
      "metadata": {
        "id": "kQnpmllJE4Vy"
      }
    },
    {
      "cell_type": "code",
      "source": [
        "location = [36.3206, 127.3662, 160]  # 현재 차량의 3D x,y,z 좌표\n",
        "target_waypoint = [36.351111, 127.297778, 151]  #한밭대학교의 위도,경도,고도\n",
        "\n",
        "# 목표위치를 한밭대학교로 설정.\n",
        "target_waypoint = [36.351111, 127.297778, 151]\n",
        "\n",
        "# 좌표 차이 계산\n",
        "dlat = target_waypoint[0] - location[0]\n",
        "dlon = target_waypoint[1] - location[1]\n",
        "delev = target_waypoint[2] - location[2]\n",
        "\n",
        "print(f\"목표까지 위도차 {dlat}, 경도차 {dlon}, 고도차 {delev}\")"
      ],
      "metadata": {
        "colab": {
          "base_uri": "https://localhost:8080/"
        },
        "id": "P3V0Dl4qDdSv",
        "outputId": "67532891-531c-4c85-9770-44f8f1fd6b9f"
      },
      "execution_count": 65,
      "outputs": [
        {
          "output_type": "stream",
          "name": "stdout",
          "text": [
            "목표까지 위도차 0.030511000000004174, 경도차 -0.06842200000001242, 고도차 -9\n"
          ]
        }
      ]
    },
    {
      "cell_type": "markdown",
      "source": [
        "샘플1. 신호등 데이터 관련 리스트와 for문 사용예제"
      ],
      "metadata": {
        "id": "JPqng-RN9KzF"
      }
    },
    {
      "cell_type": "code",
      "source": [
        "traffic_signs = [\"빨간불\", \"초록불\", \"주황불\"]\n",
        "\n",
        "for sign in traffic_signs:\n",
        "    if sign == \"빨간불\":\n",
        "        action = \"정지\"\n",
        "    elif sign == \"초록불\":\n",
        "        action = \"진행\"\n",
        "    else:\n",
        "        action = \"감속 준비\"\n",
        "    print(f\"신호등이 {sign}일 때 → 차량은 '{action}'\")  #실제코드에선 action에 따라 속도가 변하도록 만들어줘야함"
      ],
      "metadata": {
        "colab": {
          "base_uri": "https://localhost:8080/"
        },
        "id": "72Uc0CHk8Nw1",
        "outputId": "954aafbd-0fd0-48ab-d46a-da8da89e95ec"
      },
      "execution_count": 58,
      "outputs": [
        {
          "output_type": "stream",
          "name": "stdout",
          "text": [
            "신호등이 빨간불일 때 → 차량은 '정지'\n",
            "신호등이 초록불일 때 → 차량은 '진행'\n",
            "신호등이 주황불일 때 → 차량은 '감속 준비'\n"
          ]
        }
      ]
    },
    {
      "cell_type": "markdown",
      "source": [
        "샘플2. 자율주행 장애물 감지 관련 리스트와 for문 사용예제"
      ],
      "metadata": {
        "id": "A1nYUyD19lNg"
      }
    },
    {
      "cell_type": "code",
      "source": [
        "obstacles = [True, False, True]  # True: 장애물 감지됨, False: 없음\n",
        "\n",
        "for i, detected in enumerate(obstacles, start=1):\n",
        "    if detected:\n",
        "        print(f\"센서 {i}: 장애물 감지! → 긴급 제동 또는 회피 기동 수행\")\n",
        "        # 예: acceleration = -3.0  (m/s² 제동)\n",
        "    else:\n",
        "        print(f\"센서 {i}: 장애물 없음 → 정상 주행 유지\")"
      ],
      "metadata": {
        "colab": {
          "base_uri": "https://localhost:8080/"
        },
        "id": "g4xSXMmW9dYK",
        "outputId": "f16c0b23-3ab5-419c-c3de-3feeb86e85a4"
      },
      "execution_count": 59,
      "outputs": [
        {
          "output_type": "stream",
          "name": "stdout",
          "text": [
            "센서 1: 장애물 감지! → 긴급 제동 또는 회피 기동 수행\n",
            "센서 2: 장애물 없음 → 정상 주행 유지\n",
            "센서 3: 장애물 감지! → 긴급 제동 또는 회피 기동 수행\n"
          ]
        }
      ]
    },
    {
      "cell_type": "markdown",
      "source": [
        "샘플3. 목표 속도에 도달하도록 가속,감속하는 예제"
      ],
      "metadata": {
        "id": "zV7nGdE8-3Fx"
      }
    },
    {
      "cell_type": "code",
      "source": [
        "current_speeds = [0, 10, 25, 35, 28, 30, 32]  # 시뮬레이션 현재 속도 (km/h)\n",
        "\n",
        "for i in current_speeds:\n",
        "    speed_error = target_speed - i  #목표로하는 속도와 현재 속도가 얼마나 차이나는지 계산하여, 가속할지 감속할지 판단하는 if문 사용!\n",
        "    if speed_error > 0:\n",
        "        # 부족하면 스로틀 증가, 브레이크 해제\n",
        "        throttle = min(speed_error / target_speed, 1.0)\n",
        "        brake = 0.0\n",
        "    else:\n",
        "        # 초과하면 브레이크, 스로틀 해제\n",
        "        throttle = 0.0\n",
        "        brake = min(-speed_error / max_speed, 1.0)\n",
        "    print(f\"현재속도 = {i}km/h -> throttle = {throttle:.2f}, brake = {brake:.2f}\")"
      ],
      "metadata": {
        "colab": {
          "base_uri": "https://localhost:8080/"
        },
        "id": "cFVP4eo3-fjE",
        "outputId": "e820edb2-0948-4a9e-8f25-ecf1f29f8086"
      },
      "execution_count": 60,
      "outputs": [
        {
          "output_type": "stream",
          "name": "stdout",
          "text": [
            "현재속도 = 0km/h -> throttle = 1.00, brake = 0.00\n",
            "현재속도 = 10km/h -> throttle = 0.67, brake = 0.00\n",
            "현재속도 = 25km/h -> throttle = 0.17, brake = 0.00\n",
            "현재속도 = 35km/h -> throttle = 0.00, brake = 0.08\n",
            "현재속도 = 28km/h -> throttle = 0.07, brake = 0.00\n",
            "현재속도 = 30km/h -> throttle = 0.00, brake = -0.00\n",
            "현재속도 = 32km/h -> throttle = 0.00, brake = 0.03\n"
          ]
        }
      ]
    },
    {
      "cell_type": "markdown",
      "source": [
        "샘플4. 핸들 각도 리스트를 이용해 방향을 제어하는 예제"
      ],
      "metadata": {
        "id": "hYtmMyzj_NL0"
      }
    },
    {
      "cell_type": "code",
      "source": [
        "heading_errors = [5, -3, 15, -40, 25]  # 목표 방향과 실제 방향의 각도 차이가 나는 여러 경우를 리스트로 정의함.\n",
        "\n",
        "for err in heading_errors:\n",
        "    steering_angle = err\n",
        "\n",
        "    # 차량의 최대 조향각을 넘지 않도록 if문으로 제어.\n",
        "    if steering_angle > max_steering_angle:\n",
        "        steering_angle = max_steering_angle\n",
        "    elif steering_angle < -max_steering_angle:\n",
        "        steering_angle = -max_steering_angle\n",
        "    print(f\"헤딩오차 = {err}도 -> 조향각 = {steering_angle:.1f}도\")"
      ],
      "metadata": {
        "colab": {
          "base_uri": "https://localhost:8080/"
        },
        "id": "ojADgews-9aI",
        "outputId": "5d403d86-f69f-452e-c4ef-8cdf9f2e35ce"
      },
      "execution_count": 61,
      "outputs": [
        {
          "output_type": "stream",
          "name": "stdout",
          "text": [
            "헤딩오차 = 5도 -> 조향각 = 5.0도\n",
            "헤딩오차 = -3도 -> 조향각 = -3.0도\n",
            "헤딩오차 = 15도 -> 조향각 = 15.0도\n",
            "헤딩오차 = -40도 -> 조향각 = -30.0도\n",
            "헤딩오차 = 25도 -> 조향각 = 25.0도\n"
          ]
        }
      ]
    },
    {
      "cell_type": "markdown",
      "source": [
        "샘플5. 날씨와 도로상태에 영향을 받아, 가시거리가 늘어났음을 알리고, 차량상태 변수중 acceleration을 평소보다 낮춰, 안전운전을 유도하는 예제"
      ],
      "metadata": {
        "id": "TNaJtUmMBbY3"
      }
    },
    {
      "cell_type": "code",
      "source": [
        "weather_condition = \"CLEAR\"  # 날씨 상태\n",
        "road_condition = \"DRY\"  # 도로 상태\n",
        "visibility = 100.0  # 가시거리\n",
        "\n",
        "\n",
        "if weather_condition == \"CLEAR\":\n",
        "  visibility += 10\n",
        "  print(\"날씨가 맑아 가시거리가 평소보다 길어졌으니 참고하세요\")\n",
        "\n",
        "if road_condition == \"DRY\":\n",
        "  acceleration -= 1\n",
        "  print(\"도로가 건조하여 평소보다 낮은 가속으로 운행하겠습니다. 참고하세요\")"
      ],
      "metadata": {
        "colab": {
          "base_uri": "https://localhost:8080/"
        },
        "id": "XNjMIdPdAS6U",
        "outputId": "d79812f1-d73c-4d92-84ca-f30150d45a43"
      },
      "execution_count": 62,
      "outputs": [
        {
          "output_type": "stream",
          "name": "stdout",
          "text": [
            "날씨가 맑아 가시거리가 평소보다 길어졌으니 참고하세요\n",
            "도로가 건조하여 평소보다 낮은 가속으로 운행하겠습니다. 참고하세요\n"
          ]
        }
      ]
    }
  ]
}